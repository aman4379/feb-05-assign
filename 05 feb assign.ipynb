{
 "cells": [
  {
   "cell_type": "code",
   "execution_count": null,
   "id": "96951939-b910-4896-99a8-46a0282260eb",
   "metadata": {},
   "outputs": [],
   "source": [
    "Q1. Explain Class and Object with respect to Object-Oriented Programming. Give a suitable example."
   ]
  },
  {
   "cell_type": "code",
   "execution_count": null,
   "id": "9a731b69-1fbb-4b12-89bd-37cea9fbf2a5",
   "metadata": {},
   "outputs": [],
   "source": [
    "Class is a set of object which shares common characteristics and common properties or attributes.\n",
    "A class is a user defined blueprint or prototype from which objects are created.\n",
    "Object is a basic unit of Object-Oriented Programming and represents real life entities."
   ]
  },
  {
   "cell_type": "code",
   "execution_count": 1,
   "id": "547c3b3f-fff1-4abe-b840-59bcda19b86a",
   "metadata": {},
   "outputs": [],
   "source": [
    "class pwskills:\n",
    "    def __init__(self , phone_number , email_id , student_id ):\n",
    "        self.phone_number=phone_number\n",
    "        self.email_id = email_id\n",
    "        self.student_id = student_id\n",
    "    def return_student_details(self):\n",
    "        return self.phone_number,self.email_id,self.student_id"
   ]
  },
  {
   "cell_type": "code",
   "execution_count": 9,
   "id": "7b4fd3e6-8b05-4ecf-9c6e-fa320d80aee5",
   "metadata": {},
   "outputs": [],
   "source": [
    "aman = pwskills( 9868764367,'aman@gmail.com',876)"
   ]
  },
  {
   "cell_type": "code",
   "execution_count": null,
   "id": "8062b2d5-011e-48b1-85c8-6197ddbde13a",
   "metadata": {},
   "outputs": [],
   "source": [
    "Q2. Name the four pillars of OOPs."
   ]
  },
  {
   "cell_type": "code",
   "execution_count": null,
   "id": "4b52b3de-141d-4997-9845-f91d59cc7b7b",
   "metadata": {},
   "outputs": [],
   "source": [
    "The name of four pillars of OOPs are:~\n",
    "1.) Inharitance\n",
    "2.) Encapsulation\n",
    "3.) Polymorphism\n",
    "4.) Abstraction"
   ]
  },
  {
   "cell_type": "code",
   "execution_count": null,
   "id": "7544dce7-0f9d-47e5-b78b-d3056feb0c55",
   "metadata": {},
   "outputs": [],
   "source": [
    "Q3. Explain why the __init__() function is used. Give a suitable example."
   ]
  },
  {
   "cell_type": "code",
   "execution_count": null,
   "id": "d0822ed6-23a0-4f11-ba92-9836ae18351c",
   "metadata": {},
   "outputs": [],
   "source": [
    "The __init__() function is basically a constructor which helps to create and initialise the object in a class."
   ]
  },
  {
   "cell_type": "code",
   "execution_count": 7,
   "id": "ca521ae4-86d0-45fd-a863-89791f474fac",
   "metadata": {},
   "outputs": [],
   "source": [
    "class college:\n",
    "    def lib(self):\n",
    "        print('college is place of knowledge')"
   ]
  },
  {
   "cell_type": "code",
   "execution_count": 8,
   "id": "cd9333be-4ba1-44f1-9f0e-a3fc2e73f1bc",
   "metadata": {},
   "outputs": [],
   "source": [
    "aman = college()"
   ]
  },
  {
   "cell_type": "code",
   "execution_count": 10,
   "id": "5d3ab41a-7a3c-4cf1-9cc4-ba42f521528a",
   "metadata": {},
   "outputs": [],
   "source": [
    "class pwskills:\n",
    "    def __init__(self , phone_number , email_id , student_id ):\n",
    "        self.phone_number=phone_number\n",
    "        self.email_id = email_id\n",
    "        self.student_id = student_id\n",
    "    def return_student_details(self):\n",
    "        return self.phone_number,self.email_id,self.student_id"
   ]
  },
  {
   "cell_type": "code",
   "execution_count": 12,
   "id": "a1a70aee-f73a-4825-8595-4219ba8ae3f5",
   "metadata": {},
   "outputs": [],
   "source": [
    "saras = pwskills(8767658578,'jhgujhg@gmail.com',786)"
   ]
  },
  {
   "cell_type": "code",
   "execution_count": null,
   "id": "43dacdd8-925e-4a31-96aa-9a8c793b69df",
   "metadata": {},
   "outputs": [],
   "source": [
    "In the first program we do not have any object but in second we have the object."
   ]
  },
  {
   "cell_type": "code",
   "execution_count": null,
   "id": "7a80614e-1373-4805-b104-090402dd51f9",
   "metadata": {},
   "outputs": [],
   "source": [
    "Q4. Why self is used in OOPs?"
   ]
  },
  {
   "cell_type": "code",
   "execution_count": null,
   "id": "75e9a039-2dfd-4e65-bbfb-3d6242990a4b",
   "metadata": {},
   "outputs": [],
   "source": [
    "self is used because it tells the class or associate the object variable with the class. Our class \n",
    "get the idea that with whom we have to get the data."
   ]
  },
  {
   "cell_type": "code",
   "execution_count": null,
   "id": "aef5c2e6-0016-499c-9220-31305d294fed",
   "metadata": {},
   "outputs": [],
   "source": [
    "Q5. What is inheritance? Give an example for each type of inheritance."
   ]
  },
  {
   "cell_type": "code",
   "execution_count": null,
   "id": "52566c2e-64a3-4a5f-91e9-2952c874aef1",
   "metadata": {},
   "outputs": [],
   "source": [
    "Inheritance tells how the properties of one class can be inherited by the other classes.\n",
    "There are 5 types of inheritance.\n",
    "1.) Single inheritance:- When the derived class inherit the properties from the single parent class.\n",
    "2.) Multiple Inheritance:- When the derived class inherit the properties of more than one parent class.\n",
    "3.) Multilevel Inheritance:- when the derived class properties are further inherited to the new class derivend \n",
    "from the child class. Like son and grand father relation.\n",
    "4.) Hierarchical Inheritance:- When more than one derived classes are formed from the single class.\n",
    "5.) Hybrid Inheritance:- When the combination of the above 4 types are applied at the same time. The class \n",
    "formed by this method is called the hybrid class."
   ]
  }
 ],
 "metadata": {
  "kernelspec": {
   "display_name": "Python 3 (ipykernel)",
   "language": "python",
   "name": "python3"
  },
  "language_info": {
   "codemirror_mode": {
    "name": "ipython",
    "version": 3
   },
   "file_extension": ".py",
   "mimetype": "text/x-python",
   "name": "python",
   "nbconvert_exporter": "python",
   "pygments_lexer": "ipython3",
   "version": "3.10.8"
  }
 },
 "nbformat": 4,
 "nbformat_minor": 5
}
